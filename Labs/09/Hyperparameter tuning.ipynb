{
 "cells": [
  {
   "attachments": {},
   "cell_type": "markdown",
   "metadata": {},
   "source": [
    "# Tune hyperparameters with a sweep job\n",
    "\n",
    "There are many machine learning algorithms that require hyperparameters (parameter values that influence training, but can't be determined from the training data itself). For example, when training a logistic regression model, you can use a regularization rate hyperparameter to counteract bias in the model; or when training a convolutional neural network, you can use hyperparameters like learning rate and batch size to control how weights are adjusted and how many data items are processed in a mini-batch respectively. The choice of hyperparameter values can significantly affect the performance of a trained model, or the time taken to train it; and often you need to try multiple combinations to find the optimal solution. \n",
    "\n",
    "## Before you start\n",
    "\n",
    "You'll need the latest version of the  **azure-ai-ml** package to run the code in this notebook. Run the cell below to verify that it is installed.\n",
    "\n",
    "> **Note**:\n",
    "> If the **azure-ai-ml** package is not installed, run `pip install azure-ai-ml` to install it."
   ]
  },
  {
   "cell_type": "code",
   "metadata": {
    "gather": {
     "logged": 1667591781367
    },
    "vscode": {
     "languageId": "python"
    },
    "ExecuteTime": {
     "end_time": "2024-12-30T04:24:16.824858Z",
     "start_time": "2024-12-30T04:24:14.603652Z"
    }
   },
   "source": [
    "pip show azure-ai-ml"
   ],
   "outputs": [
    {
     "name": "stdout",
     "output_type": "stream",
     "text": [
      "Name: azure-ai-ml\r\n",
      "Version: 1.23.0\r\n",
      "Summary: Microsoft Azure Machine Learning Client Library for Python\r\n",
      "Home-page: https://github.com/Azure/azure-sdk-for-python\r\n",
      "Author: Microsoft Corporation\r\n",
      "Author-email: azuresdkengsysadmins@microsoft.com\r\n",
      "License: MIT License\r\n",
      "Location: /anaconda/envs/msft-learn-py38/lib/python3.8/site-packages\r\n",
      "Requires: pydash, opencensus-ext-azure, azure-mgmt-core, isodate, pyyaml, strictyaml, marshmallow, azure-storage-file-datalake, msrest, azure-storage-blob, azure-common, typing-extensions, jsonschema, opencensus-ext-logging, pyjwt, azure-storage-file-share, azure-core, tqdm, colorama\r\n",
      "Required-by: \r\n",
      "Note: you may need to restart the kernel to use updated packages.\n"
     ]
    }
   ],
   "execution_count": 2
  },
  {
   "attachments": {},
   "cell_type": "markdown",
   "metadata": {},
   "source": [
    "## Connect to your workspace\n",
    "\n",
    "With the required SDK packages installed, now you're ready to connect to your workspace.\n",
    "\n",
    "To connect to a workspace, we need identifier parameters - a subscription ID, resource group name, and workspace name. Since you're working with a compute instance, managed by Azure Machine Learning, you can use the default values to connect to the workspace."
   ]
  },
  {
   "cell_type": "code",
   "metadata": {
    "gather": {
     "logged": 1667591793668
    },
    "vscode": {
     "languageId": "python"
    },
    "ExecuteTime": {
     "end_time": "2024-12-30T04:24:20.284925Z",
     "start_time": "2024-12-30T04:24:18.549224Z"
    }
   },
   "source": [
    "from azure.identity import DefaultAzureCredential, InteractiveBrowserCredential\n",
    "from azure.ai.ml import MLClient\n",
    "\n",
    "# option 1 to connect to AZ workspace\n",
    "# subscription_id = \"bc119767-30f5-4b66-a354-867f0eb14000\"\n",
    "# resource_group = \"cfwt-ml-rg\"\n",
    "# workspace_name = \"cfwt-sandbox-aml\"\n",
    "#\n",
    "# credential = DefaultAzureCredential()\n",
    "# ml_client = MLClient(credential, subscription_id, resource_group, workspace_name)\n",
    "\n",
    "\n",
    "# option 2 to connect to AZ workspace\n",
    "try:\n",
    "    credential = DefaultAzureCredential()\n",
    "    # Check if given credential can get token successfully.\n",
    "    credential.get_token(\"https://management.azure.com/.default\")\n",
    "except Exception as ex:\n",
    "    # Fall back to InteractiveBrowserCredential in case DefaultAzureCredential not work\n",
    "    credential = InteractiveBrowserCredential()\n",
    "# Get a handle to workspace\n",
    "ml_client = MLClient.from_config(credential=credential)\n",
    "\n",
    "\n",
    "print(\"Connected to Azure ML workspace:\", ml_client.workspace_name)"
   ],
   "outputs": [
    {
     "name": "stderr",
     "output_type": "stream",
     "text": [
      "Found the config file in: /config.json\n"
     ]
    },
    {
     "name": "stdout",
     "output_type": "stream",
     "text": [
      "Connected to Azure ML workspace: cfwt-sandbox-aml\n"
     ]
    }
   ],
   "execution_count": 3
  },
  {
   "cell_type": "code",
   "execution_count": null,
   "metadata": {
    "gather": {
     "logged": 1667591797746
    },
    "vscode": {
     "languageId": "python"
    }
   },
   "outputs": [],
   "source": ""
  },
  {
   "attachments": {},
   "cell_type": "markdown",
   "metadata": {},
   "source": [
    "## Create the training script\n",
    "Hyperparameter tuning is ideal when you want to train a machine learning models but vary the input parameters. You'll need to create a training script that expects an input parameter representing one of the algorithm's hyperparameters.\n",
    "\n",
    "Run the following cells to create the **src** folder and the training script.\n",
    "\n",
    "Note that the training script expects two input parameters:\n",
    "\n",
    "- `--training_data` which expects a string. You'll specify the path to a registered data asset as the input training data.\n",
    "- `--reg_rate` which expects a number, but has a default value of `0.01`. You'll use this input parameter for hyperparameter tuning."
   ]
  },
  {
   "cell_type": "code",
   "metadata": {
    "gather": {
     "logged": 1667591853637
    },
    "vscode": {
     "languageId": "python"
    },
    "ExecuteTime": {
     "end_time": "2024-12-30T04:24:22.271811Z",
     "start_time": "2024-12-30T04:24:22.265426Z"
    }
   },
   "source": [
    "import os\n",
    "\n",
    "# create a folder for the script files\n",
    "script_folder = 'src'\n",
    "os.makedirs(script_folder, exist_ok=True)\n",
    "print(script_folder, 'folder created')"
   ],
   "outputs": [
    {
     "name": "stdout",
     "output_type": "stream",
     "text": [
      "src folder created\n"
     ]
    }
   ],
   "execution_count": 4
  },
  {
   "cell_type": "code",
   "metadata": {
    "vscode": {
     "languageId": "python"
    },
    "ExecuteTime": {
     "end_time": "2024-12-30T04:25:20.494657Z",
     "start_time": "2024-12-30T04:25:20.433183Z"
    }
   },
   "source": [
    "%%writefile $script_folder/train.py\n",
    "# import libraries\n",
    "import mlflow\n",
    "import argparse\n",
    "import pandas as pd\n",
    "import numpy as np\n",
    "from sklearn.model_selection import train_test_split\n",
    "from sklearn.linear_model import LogisticRegression\n",
    "from sklearn.metrics import roc_auc_score\n",
    "from sklearn.metrics import roc_curve\n",
    "import matplotlib.pyplot as plt\n",
    "\n",
    "def main(args):\n",
    "    # read data\n",
    "    df = get_data(args.training_data)\n",
    "\n",
    "    # split data\n",
    "    X_train, X_test, y_train, y_test = split_data(df)\n",
    "\n",
    "    # train model\n",
    "    model = train_model(args.reg_rate, X_train, X_test, y_train, y_test)\n",
    "\n",
    "    # evaluate model\n",
    "    eval_model(model, X_test, y_test)\n",
    "\n",
    "# function that reads the data\n",
    "def get_data(path):\n",
    "    print(\"Reading data...\")\n",
    "    df = pd.read_csv(path)\n",
    "    \n",
    "    return df\n",
    "\n",
    "# function that splits the data\n",
    "def split_data(df):\n",
    "    print(\"Splitting data...\")\n",
    "    X, y = df[['Pregnancies','PlasmaGlucose','DiastolicBloodPressure','TricepsThickness',\n",
    "    'SerumInsulin','BMI','DiabetesPedigree','Age']].values, df['Diabetic'].values\n",
    "\n",
    "    X_train, X_test, y_train, y_test = train_test_split(X, y, test_size=0.30, random_state=0)\n",
    "\n",
    "    return X_train, X_test, y_train, y_test\n",
    "\n",
    "# function that trains the model\n",
    "def train_model(reg_rate, X_train, X_test, y_train, y_test):\n",
    "    mlflow.log_param(\"Regularization rate\", reg_rate) #log parameter of regulartion rate\n",
    "    print(\"Training model...\")\n",
    "    model = LogisticRegression(C=1/reg_rate, solver=\"liblinear\").fit(X_train, y_train)\n",
    "    #C -- Inverse of Regularization Strength\n",
    "    #The smaller the C, the stronger the regularization, which keeps the coefficients small to prevent overfitting\n",
    "\n",
    "    return model\n",
    "\n",
    "# function that evaluates the model\n",
    "def eval_model(model, X_test, y_test):\n",
    "    # calculate accuracy\n",
    "    y_hat = model.predict(X_test)\n",
    "    acc = np.average(y_hat == y_test)\n",
    "    print('Accuracy:', acc)\n",
    "    mlflow.log_metric(\"training_accuracy_score\", acc)\n",
    "\n",
    "    # calculate AUC\n",
    "    y_scores = model.predict_proba(X_test)\n",
    "    auc = roc_auc_score(y_test,y_scores[:,1])\n",
    "    print('AUC: ' + str(auc))\n",
    "    mlflow.log_metric(\"AUC\", auc)\n",
    "\n",
    "    # plot ROC curve\n",
    "    fpr, tpr, thresholds = roc_curve(y_test, y_scores[:,1])\n",
    "    fig = plt.figure(figsize=(6, 4))\n",
    "    # Plot the diagonal 50% line\n",
    "    plt.plot([0, 1], [0, 1], 'k--')\n",
    "    # Plot the FPR and TPR achieved by our model\n",
    "    plt.plot(fpr, tpr)\n",
    "    plt.xlabel('False Positive Rate')\n",
    "    plt.ylabel('True Positive Rate')\n",
    "    plt.title('ROC Curve')\n",
    "    plt.savefig(\"ROC-Curve.png\")\n",
    "    mlflow.log_artifact(\"ROC-Curve.png\")    \n",
    "\n",
    "def parse_args():\n",
    "    # setup arg parser\n",
    "    parser = argparse.ArgumentParser()\n",
    "\n",
    "    # add arguments\n",
    "    parser.add_argument(\"--training_data\", dest='training_data',\n",
    "                        type=str)\n",
    "    parser.add_argument(\"--reg_rate\", dest='reg_rate',\n",
    "                        type=float, default=0.01)\n",
    "\n",
    "    # parse args\n",
    "    args = parser.parse_args()\n",
    "\n",
    "    # return args\n",
    "    return args\n",
    "    #can pass into the function like args.reg_rate\n",
    "\n",
    "# run script\n",
    "if __name__ == \"__main__\":\n",
    "    # add space in logs\n",
    "    print(\"\\n\\n\")\n",
    "    print(\"*\" * 60)\n",
    "\n",
    "    # parse args\n",
    "    args = parse_args()\n",
    "\n",
    "    # run main function\n",
    "    main(args)\n",
    "\n",
    "    # add space in logs\n",
    "    print(\"*\" * 60)\n",
    "    print(\"\\n\\n\")\n"
   ],
   "outputs": [
    {
     "name": "stdout",
     "output_type": "stream",
     "text": [
      "Overwriting src/train.py\n"
     ]
    }
   ],
   "execution_count": 7
  },
  {
   "attachments": {},
   "cell_type": "markdown",
   "metadata": {},
   "source": [
    "## Configure and run a command job\n",
    "\n",
    "Run the cell below to train a classification model to predict diabetes. The model is trained by running the **train\\.py** script that can be found in the **src** folder. It uses the registered `diabetes-data` data asset as the training data. \n",
    "\n",
    "- `code`: specifies the folder that includes the script to run.\n",
    "- `command`: specifies what to run exactly.\n",
    "- `environment`: specifies the necessary packages to be installed on the compute before running the command.\n",
    "- `compute`: specifies the compute to use to run the command.\n",
    "- `display_name`: the name of the individual job.\n",
    "- `experiment_name`: the name of the experiment the job belongs to.\n",
    "\n",
    "Note that the command job only runs the training script once, with a regularization rate of `0.1`. Before you run a sweep job to tune hyperparameters, it's a best practice to test whether your script works as expected with a command job."
   ]
  },
  {
   "cell_type": "code",
   "metadata": {
    "gather": {
     "logged": 1667592538771
    },
    "jupyter": {
     "outputs_hidden": false,
     "source_hidden": false
    },
    "nteract": {
     "transient": {
      "deleting": false
     }
    },
    "vscode": {
     "languageId": "python"
    },
    "ExecuteTime": {
     "end_time": "2024-12-30T04:32:12.863702Z",
     "start_time": "2024-12-30T04:32:07.190350Z"
    }
   },
   "source": [
    "from azure.ai.ml import command, Input\n",
    "from azure.ai.ml.constants import AssetTypes\n",
    "\n",
    "# configure job\n",
    "\n",
    "job = command(\n",
    "    code=\"./src\",\n",
    "    command=\"python train.py --training_data ${{inputs.diabetes_data}} --reg_rate ${{inputs.reg_rate}}\",\n",
    "    # inputs={\n",
    "    #     \"diabetes_data\": Input(\n",
    "    #         type=AssetTypes.URI_FILE,\n",
    "    #         path=\"azureml:diabetes-data:1\"  #registered dataset\n",
    "    #         ),\n",
    "    #     \"reg_rate\": 0.01,\n",
    "    # },\n",
    "\n",
    "    #the azureml path is not available, switch to local file path\n",
    "    inputs = {\n",
    "        \"diabetes_data\": Input(\n",
    "            type=AssetTypes.URI_FILE,\n",
    "            path=\"./diabetes.csv\"\n",
    "            # Use local file path here\n",
    "        ),\n",
    "        \"reg_rate\": 0.01,\n",
    "    },\n",
    "\n",
    "    environment=\"AzureML-sklearn-0.24-ubuntu18.04-py37-cpu@latest\",\n",
    "    compute=\"cfwt-DS5v2-cc\",\n",
    "    display_name=\"diabetes-train-mlflow\",\n",
    "    experiment_name=\"diabetes-training\", \n",
    "    tags={\"model_type\": \"LogisticRegression\"}\n",
    "    )\n",
    "\n",
    "# submit job\n",
    "returned_job = ml_client.create_or_update(job)\n",
    "aml_url = returned_job.studio_url\n",
    "print(\"Monitor your job at\", aml_url)"
   ],
   "outputs": [
    {
     "name": "stderr",
     "output_type": "stream",
     "text": [
      "Uploading diabetes.csv (< 1 MB): 0.00B [00:00, ?B/s] (< 1 MB): 100%|██████████| 528k/528k [00:00<00:00, 11.8MB/s]\n",
      "\n",
      "\n"
     ]
    },
    {
     "name": "stdout",
     "output_type": "stream",
     "text": [
      "Monitor your job at https://ml.azure.com/runs/elated_stamp_wkng0491jm?wsid=/subscriptions/bc119767-30f5-4b66-a354-867f0eb14000/resourcegroups/cfwt-ml-rg/workspaces/cfwt-sandbox-aml&tid=1aff0669-ee5f-40b8-9800-b5ec4f39c48e\n"
     ]
    }
   ],
   "execution_count": 10
  },
  {
   "metadata": {
    "ExecuteTime": {
     "end_time": "2024-12-30T04:10:25.530792Z",
     "start_time": "2024-12-30T04:10:22.871090Z"
    }
   },
   "cell_type": "code",
   "source": [
    "#job fail as unable to resolve diabete url file\n",
    "\n",
    "from azureml.core import Workspace, Dataset\n",
    "\n",
    "# Connect to the workspace\n",
    "ws = Workspace.from_config()\n",
    "\n",
    "# List all datasets in the workspace\n",
    "datasets = Dataset.get_all(ws)\n",
    "\n",
    "# Print dataset names and versions\n",
    "# for dataset in datasets:\n",
    "#     print(f\"Dataset Name: {dataset.name}, Version: {dataset.version}\")\n",
    "\n",
    "print(datasets)"
   ],
   "outputs": [
    {
     "name": "stdout",
     "output_type": "stream",
     "text": [
      "{ 'GoVal_Experian': DatasetRegistration(id='4bddb266-581a-4660-8056-26bfeff3dcd0', name='GoVal_Experian', version=4, description='', tags={}),\n",
      "  'MDC_Dataset': DatasetRegistration(id='ec89027c-e904-40fe-9e1b-a0d10f482711', name='MDC_Dataset', version=1, description='', tags={'opendatasets': 'sample-diabetes'}),\n",
      "  'Moodys': DatasetRegistration(id='4fe34a33-ebbb-4ef7-afcb-2224196f97cf', name='Moodys', version=1, description='', tags={}),\n",
      "  'Moodys_merged': DatasetRegistration(id='5ba582af-b812-4e77-8c58-404e0e811315', name='Moodys_merged', version=4, description='', tags={}),\n",
      "  'Moodys_merged2': DatasetRegistration(id='424640bc-8824-4267-afc9-127901dfea48', name='Moodys_merged2', version=1, description='', tags={}),\n",
      "  'Moodys_merged3': DatasetRegistration(id='9a78fe0f-e936-44f7-8298-072c9c1c3034', name='Moodys_merged3', version=2, description='', tags={}),\n",
      "  'Moodys_recovery_regression': DatasetRegistration(id='1bd9f34a-7fd0-452f-b51b-7344c56fadfc', name='Moodys_recovery_regression', version=1, description='', tags={}),\n",
      "  'OITM_df_appData7824': DatasetRegistration(id='f0cd35bd-677d-478a-aeca-7a987aa5816d', name='OITM_df_appData7824', version=1, description='Application/applicant/deal related information of booked contracts', tags={}),\n",
      "  'OITM_df_premierData7824': DatasetRegistration(id='cc6d5e69-ab41-41e0-b229-d81077158d26', name='OITM_df_premierData7824', version=1, description='Premier data of applicants of booked contracts', tags={}),\n",
      "  'SM0722_Bin6_2Forgive_Bottom20%': DatasetRegistration(id='e234eac1-8808-47c1-bab7-6a134fd73eb7', name='SM0722_Bin6_2Forgive_Bottom20%', version=1, description='', tags={}),\n",
      "  'SM0722_EngineeredAll': DatasetRegistration(id='dbccff80-73fb-42ca-a1b5-3cb7eca40951', name='SM0722_EngineeredAll', version=1, description='', tags={}),\n",
      "  'SM0722_EngineeredDevDataset': DatasetRegistration(id='7aab5dd1-b40c-4069-991e-792e22368042', name='SM0722_EngineeredDevDataset', version=4, description='', tags={}),\n",
      "  'SM0722_EngineeredResampled': DatasetRegistration(id='254d01ab-ba50-43e8-b5c7-70aafd8f57f7', name='SM0722_EngineeredResampled', version=1, description='', tags={}),\n",
      "  'SM0722_FeatureEngineered': DatasetRegistration(id='c594a54e-18a5-463c-b82a-7d2c310eafb3', name='SM0722_FeatureEngineered', version=7, description='', tags={}),\n",
      "  'SM0722_GeneralPopulation100k': DatasetRegistration(id='f12a28dd-a68f-418f-b040-46b0a19758e7', name='SM0722_GeneralPopulation100k', version=1, description='', tags={}),\n",
      "  'SM0722_GeneralPopulation100k_Balanced': DatasetRegistration(id='756ff50e-0ca8-4158-a246-c738e45a3d21', name='SM0722_GeneralPopulation100k_Balanced', version=2, description='', tags={}),\n",
      "  'SM0722_InterimDevDataset': DatasetRegistration(id='8f69e583-4ac4-431c-9d00-52d6855a3530', name='SM0722_InterimDevDataset', version=1, description='', tags={}),\n",
      "  'SM0722_InterimDevDataset-Generated': DatasetRegistration(id='74bac64b-a5af-4eed-9c18-5414d7bad2e1', name='SM0722_InterimDevDataset-Generated', version=4, description='', tags={}),\n",
      "  'SM0722_InterimDevDataset2': DatasetRegistration(id='5c70f190-6d79-4bc7-be69-85a9b02a8a51', name='SM0722_InterimDevDataset2', version=1, description='', tags={}),\n",
      "  'SM0722_InterimDevDataset3': DatasetRegistration(id='8cdab729-90f7-4505-aead-9a0429f0f813', name='SM0722_InterimDevDataset3', version=1, description='', tags={}),\n",
      "  'SM0722_NumPayments': DatasetRegistration(id='cc5c1ff8-1300-4932-be1c-b148bb6a11e9', name='SM0722_NumPayments', version=4, description='', tags={}),\n",
      "  'SM0722_NumPayments_Binned': DatasetRegistration(id='0295a3c1-2dbb-45fc-a9a3-2790fb98312f', name='SM0722_NumPayments_Binned', version=6, description='', tags={}),\n",
      "  'SM0722_Resample_VantageShift_Balanced': DatasetRegistration(id='e5b71bac-3b31-44ed-898a-1a97bd72d59a', name='SM0722_Resample_VantageShift_Balanced', version=7, description='', tags={}),\n",
      "  'SM0722_Resampled': DatasetRegistration(id='226bda4c-cc98-4f6e-a584-a35a37c354ea', name='SM0722_Resampled', version=5, description='', tags={}),\n",
      "  'SM0722_Resampled_Balanced': DatasetRegistration(id='a5fbec52-65ef-4d15-8ef2-271c46061b4b', name='SM0722_Resampled_Balanced', version=3, description='', tags={}),\n",
      "  'SM0722_Resampled_Balanced_NoOthers': DatasetRegistration(id='2fa357be-420f-412e-bd67-96a1bc8d39e6', name='SM0722_Resampled_Balanced_NoOthers', version=3, description='', tags={}),\n",
      "  'SM0722_Resampled_NoOthers': DatasetRegistration(id='dd8f0fa6-04b4-44de-823e-56c40c515e3d', name='SM0722_Resampled_NoOthers', version=1, description='', tags={}),\n",
      "  'SM0722_Resampled_VantageShiftx2': DatasetRegistration(id='b331427d-4c89-4f89-ad45-15c0f836aa09', name='SM0722_Resampled_VantageShiftx2', version=3, description='', tags={}),\n",
      "  'SM0722_TestingData_5-4': DatasetRegistration(id='690b8cd7-c3f3-47f4-93cb-cb293b01126b', name='SM0722_TestingData_5-4', version=1, description='', tags={}),\n",
      "  'SM0722_TrainingData_5-4': DatasetRegistration(id='dec5fed9-932e-4fe0-9ee3-5e0d967d28b0', name='SM0722_TrainingData_5-4', version=1, description='', tags={}),\n",
      "  'SM0722_Unsampled': DatasetRegistration(id='721810a0-50c2-42c2-a315-ddb42aa29b7b', name='SM0722_Unsampled', version=6, description='', tags={}),\n",
      "  'SM0722_Unsampled_Balanced': DatasetRegistration(id='a4b53905-4896-4ee8-905f-048f668f25b3', name='SM0722_Unsampled_Balanced', version=3, description='', tags={}),\n",
      "  'SM0722_UpsampledVantage': DatasetRegistration(id='02aacf5c-9cb2-4985-86da-19a233b41693', name='SM0722_UpsampledVantage', version=1, description='', tags={}),\n",
      "  'SM0722_UpsampledVantage_Balanced': DatasetRegistration(id='cd758577-a70c-4527-b75f-b918c924a3f8', name='SM0722_UpsampledVantage_Balanced', version=2, description='', tags={}),\n",
      "  'SM1022_FinalDev_nontax': DatasetRegistration(id='28c5239c-ee02-4366-ae29-e596b830f5f5', name='SM1022_FinalDev_nontax', version=1, description='SM1022_FinalDev with nontax months, preprocessed', tags={}),\n",
      "  'SM1022_FinalDev_play': DatasetRegistration(id='2005bf8f-fe3a-4e15-bbab-a742930ab697', name='SM1022_FinalDev_play', version=1, description='play around with SM1022_FinalDev', tags={}),\n",
      "  'SM1022_FinalDev_tax': DatasetRegistration(id='acc6ee68-3e57-46ac-b6fc-417ca935281f', name='SM1022_FinalDev_tax', version=1, description='tax months (02,03,04) data for preprocessed SM1022', tags={}),\n",
      "  'SM1022_POC_basetest': DatasetRegistration(id='de6f9a24-8cae-4f20-8a41-05d87dee5f2d', name='SM1022_POC_basetest', version=1, description='', tags={}),\n",
      "  'SM1022_POC_basetrain': DatasetRegistration(id='806070aa-bbaf-4b34-a3a5-b94f06f9d9e0', name='SM1022_POC_basetrain', version=1, description='', tags={}),\n",
      "  'SM1022_POC_test': DatasetRegistration(id='a4d4426c-2e08-4d95-8ab8-5cb5eda71464', name='SM1022_POC_test', version=11, description='', tags={}),\n",
      "  'SM1022_POC_test_ohe': DatasetRegistration(id='c3d6b352-8d1c-4b15-a924-7ffcb2177f01', name='SM1022_POC_test_ohe', version=1, description='', tags={}),\n",
      "  'SM1022_POC_train': DatasetRegistration(id='f2517668-ec81-4e84-bcac-e97ec84c340d', name='SM1022_POC_train', version=12, description='', tags={}),\n",
      "  'SM1022_POC_train_ohe': DatasetRegistration(id='788494c8-9fe1-402b-869d-51c3a1ccef6a', name='SM1022_POC_train_ohe', version=1, description='', tags={}),\n",
      "  'SM1022_RESAMPLE_ALT1': DatasetRegistration(id='9b9cb477-9b33-4bb8-815c-dfc53d50cdd2', name='SM1022_RESAMPLE_ALT1', version=2, description='', tags={}),\n",
      "  'SM1022_RESAMPLE_ALT1_2': DatasetRegistration(id='50158da8-6596-439c-a03b-3780b872037f', name='SM1022_RESAMPLE_ALT1_2', version=1, description='', tags={}),\n",
      "  'SM1022_RESAMPLE_ALT1_COMP': DatasetRegistration(id='3abdc789-66fe-4ad9-8293-53d9c3da3a08', name='SM1022_RESAMPLE_ALT1_COMP', version=2, description='', tags={}),\n",
      "  'SM1022_RESAMPLE_ALT1_COMP_2': DatasetRegistration(id='1738cd06-6916-47dd-9b10-14ed7f4a94ff', name='SM1022_RESAMPLE_ALT1_COMP_2', version=1, description='', tags={}),\n",
      "  'SM1022_RESAMPLE_ALT2': DatasetRegistration(id='0c2b4c6f-3aba-4407-957f-66c3ececb7da', name='SM1022_RESAMPLE_ALT2', version=2, description='', tags={}),\n",
      "  'SM1022_RESAMPLE_ALT2_2': DatasetRegistration(id='42a16eab-3704-4977-a0b6-d1f49bb02b89', name='SM1022_RESAMPLE_ALT2_2', version=1, description='', tags={}),\n",
      "  'SM1022_RESAMPLE_ALT2_COMP': DatasetRegistration(id='c4243a53-d82a-4f31-9fc8-f350314e2e66', name='SM1022_RESAMPLE_ALT2_COMP', version=2, description='', tags={}),\n",
      "  'SM1022_RESAMPLE_ALT2_COMP_2': DatasetRegistration(id='f2a1a863-6a38-440c-baa3-2760a98124b2', name='SM1022_RESAMPLE_ALT2_COMP_2', version=1, description='', tags={}),\n",
      "  'SM1022_RESAMPLE_ALT3': DatasetRegistration(id='b29dd284-3665-40af-bf61-305b6b334f86', name='SM1022_RESAMPLE_ALT3', version=1, description='', tags={}),\n",
      "  'SM1022_RESAMPLE_ALT3_2': DatasetRegistration(id='ed194225-0421-4db5-b6fd-f89e5fa2fc57', name='SM1022_RESAMPLE_ALT3_2', version=1, description='', tags={}),\n",
      "  'SM1022_RESAMPLE_ALT3_COMP': DatasetRegistration(id='067a791c-ffb0-4552-bab0-27da2029855e', name='SM1022_RESAMPLE_ALT3_COMP', version=1, description='', tags={}),\n",
      "  'SM1022_RESAMPLE_ALT3_COMP_2': DatasetRegistration(id='4bcf674f-e195-49a9-b9d3-539788f45819', name='SM1022_RESAMPLE_ALT3_COMP_2', version=1, description='', tags={}),\n",
      "  'SM1022_RESAMPLE_BASE': DatasetRegistration(id='75f1ef03-e404-448e-aa80-69e660563535', name='SM1022_RESAMPLE_BASE', version=2, description='', tags={}),\n",
      "  'SM1022_RESAMPLE_BASE_2': DatasetRegistration(id='bf5af4dd-7ca4-4d56-9fca-21f0de1eefd1', name='SM1022_RESAMPLE_BASE_2', version=1, description='', tags={}),\n",
      "  'SM1022_RESAMPLE_BASE_COMP': DatasetRegistration(id='8a6d8b2f-a6a5-40c2-8f3a-700886d1fe3f', name='SM1022_RESAMPLE_BASE_COMP', version=2, description='', tags={}),\n",
      "  'SM1022_RESAMPLE_BASE_COMP_2': DatasetRegistration(id='d5013227-651d-44c1-b65e-6a30fde477cd', name='SM1022_RESAMPLE_BASE_COMP_2', version=1, description='', tags={}),\n",
      "  'VC0823_FinalDevDataset': DatasetRegistration(id='1772129c-ed63-47aa-98d4-fb5c5e27c245', name='VC0823_FinalDevDataset', version=1, description='classification dataset including clustered vehicle class within 1 year.', tags={}),\n",
      "  'VehicleFeatureImportanceChart': DatasetRegistration(id='552e6f80-182d-4b8b-a3d4-589809aa361d', name='VehicleFeatureImportanceChart', version=1, description='This is the table of make/model and their features, with an assigned class to be classify', tags={}),\n",
      "  'VehicleFeatureImportanceChart1': DatasetRegistration(id='eb12b2d1-9c7b-4a21-a88e-6e9c49cb6716', name='VehicleFeatureImportanceChart1', version=1, description='', tags={}),\n",
      "  'VehicleFeatureImportanceChart2': DatasetRegistration(id='fa799b7f-2491-4d6b-ac68-2964e4858d26', name='VehicleFeatureImportanceChart2', version=1, description='', tags={}),\n",
      "  'VehicleFeatureImportanceChart3': DatasetRegistration(id='a9d2c8c1-c6b9-4b2b-81f8-3ba17339fc6e', name='VehicleFeatureImportanceChart3', version=1, description='', tags={}),\n",
      "  'VehicleFeatureImportanceChart4': DatasetRegistration(id='bbae60a9-7844-433c-b71c-01a414bc52c4', name='VehicleFeatureImportanceChart4', version=1, description='updated with make geographic, market cap, reliability features', tags={}),\n",
      "  'build_data': DatasetRegistration(id='71356496-212d-43d1-85c4-8bd06a6c358a', name='build_data', version=3, description='build data from pipeline', tags={'azureml.Designer': 'true'}),\n",
      "  'cleaned_data_6-21-22': DatasetRegistration(id='172623d7-e3c3-4e7b-b1f3-9d8caed361d9', name='cleaned_data_6-21-22', version=1, description='', tags={}),\n",
      "  'cm_cleaned_data': DatasetRegistration(id='d4129777-344e-41a3-95a7-0aaadb8a600e', name='cm_cleaned_data', version=1, description='credit model cleaned data', tags={'azureml.Designer': 'true'}),\n",
      "  'credit_model_training_data': DatasetRegistration(id='bdb4272d-1b3f-49e7-b03d-1977e762ea98', name='credit_model_training_data', version=9, description='Credit Model Training Data from Snowflake', tags={}),\n",
      "  'credit_model_training_data_raw': DatasetRegistration(id='76b2c4a6-c79d-4b03-a017-09b9120bc9de', name='credit_model_training_data_raw', version=9, description='Credit Model Training Data from Snowflake', tags={}),\n",
      "  'credit_model_training_data_sensitive': DatasetRegistration(id='8c29596d-9ed5-4112-a0e0-ad7f953dcdd4', name='credit_model_training_data_sensitive', version=2, description='Credit Model Training Sensitive Data from Snowflake. DRAFT – PRIVILEDGED & CONFIDENTIAL, FOR LEGAL REVIEW', tags={}),\n",
      "  'creditmodel_0824_sourcedata': DatasetRegistration(id='241b0b31-e23c-41c9-b9ed-e736d15358ec', name='creditmodel_0824_sourcedata', version=1, description='', tags={'azureml.Designer': 'true'}),\n",
      "  'pipeline-intermediate-data': DatasetRegistration(id='7a554384-4e73-42d6-aaf1-91abece5fcfa', name='pipeline-intermediate-data', version=1, description='', tags={}),\n",
      "  'sensitive_source_data': DatasetRegistration(id='2cd321e7-7d35-40ca-aece-e435efbbc492', name='sensitive_source_data', version=1, description='Sensitive source data contains ethnic info', tags={'azureml.Designer': 'true'})}\n"
     ]
    }
   ],
   "execution_count": 9
  },
  {
   "attachments": {},
   "cell_type": "markdown",
   "metadata": {
    "nteract": {
     "transient": {
      "deleting": false
     }
    }
   },
   "source": [
    "## Define the search space\n",
    "\n",
    "When your command job has completed successfully, you can configure and run a sweep job. \n",
    "\n",
    "First, you'll need to specify the search space for your hyperparameter. To train three models, each with a different regularization rate (`0.01`, `0.1`, or `1`), you can define the search space with a `Choice` hyperparameter. "
   ]
  },
  {
   "cell_type": "code",
   "metadata": {
    "gather": {
     "logged": 1667592546442
    },
    "jupyter": {
     "outputs_hidden": false,
     "source_hidden": false
    },
    "nteract": {
     "transient": {
      "deleting": false
     }
    },
    "vscode": {
     "languageId": "python"
    },
    "ExecuteTime": {
     "end_time": "2024-12-30T04:39:51.498321Z",
     "start_time": "2024-12-30T04:39:51.484638Z"
    }
   },
   "source": [
    "from azure.ai.ml.sweep import Choice\n",
    "\n",
    "command_job_for_sweep = job(\n",
    "    reg_rate=Choice(values=[0.01, 0.1, 1]),\n",
    ")"
   ],
   "outputs": [],
   "execution_count": 14
  },
  {
   "attachments": {},
   "cell_type": "markdown",
   "metadata": {},
   "source": [
    "## Configure and submit the sweep job\n",
    "\n",
    "You'll use the sweep function to do hyperparameter tuning on your training script. To configure a sweep job, you'll need to configure the following:\n",
    "\n",
    "- `compute`: Name of the compute target to execute the job on.\n",
    "- `sampling_algorithm`: The hyperparameter sampling algorithm to use over the search space. Allowed values are `random`, `grid` and `bayesian`.\n",
    "- `primary_metric`: The name of the primary metric reported by each trial job. The metric must be logged in the user's training script using `mlflow.log_metric()` with the same corresponding metric name.\n",
    "- `goal`: The optimization goal of the `primary_metric`. The allowed values are `maximize` and `minimize`.\n",
    "- `limits`: Limits for the sweep job. For example, the maximum amount of trials or models you want to train.\n",
    "\n",
    "Note that the command job is used as the base for the sweep job. The configuration for the command job will be reused by the sweep job."
   ]
  },
  {
   "cell_type": "code",
   "metadata": {
    "gather": {
     "logged": 1667592681475
    },
    "jupyter": {
     "outputs_hidden": false,
     "source_hidden": false
    },
    "nteract": {
     "transient": {
      "deleting": false
     }
    },
    "vscode": {
     "languageId": "python"
    },
    "ExecuteTime": {
     "end_time": "2024-12-30T04:40:39.286272Z",
     "start_time": "2024-12-30T04:40:39.278988Z"
    }
   },
   "source": [
    "# apply the sweep parameter to obtain the sweep_job\n",
    "sweep_job = command_job_for_sweep.sweep(\n",
    "    compute=\"cfwt-DS5v2-cc\",\n",
    "    sampling_algorithm=\"grid\",\n",
    "    primary_metric=\"training_accuracy_score\",\n",
    "    goal=\"Maximize\",\n",
    ")\n",
    "\n",
    "# set the name of the sweep job experiment\n",
    "sweep_job.experiment_name=\"sweep-dt\"\n",
    "\n",
    "# define the limits for this sweep\n",
    "sweep_job.set_limits(max_total_trials=4, max_concurrent_trials=2, timeout=7200)"
   ],
   "outputs": [],
   "execution_count": 15
  },
  {
   "attachments": {},
   "cell_type": "markdown",
   "metadata": {},
   "source": [
    "Run the following cell to submit the sweep job."
   ]
  },
  {
   "cell_type": "code",
   "metadata": {
    "gather": {
     "logged": 1667592716881
    },
    "jupyter": {
     "outputs_hidden": false,
     "source_hidden": false
    },
    "nteract": {
     "transient": {
      "deleting": false
     }
    },
    "vscode": {
     "languageId": "python"
    },
    "ExecuteTime": {
     "end_time": "2024-12-30T04:40:43.876691Z",
     "start_time": "2024-12-30T04:40:41.116682Z"
    }
   },
   "source": [
    "returned_sweep_job = ml_client.create_or_update(sweep_job)\n",
    "aml_url = returned_sweep_job.studio_url\n",
    "print(\"Monitor your job at\", aml_url)"
   ],
   "outputs": [
    {
     "name": "stdout",
     "output_type": "stream",
     "text": [
      "Monitor your job at https://ml.azure.com/runs/frosty_fowl_sj3bchhymx?wsid=/subscriptions/bc119767-30f5-4b66-a354-867f0eb14000/resourcegroups/cfwt-ml-rg/workspaces/cfwt-sandbox-aml&tid=1aff0669-ee5f-40b8-9800-b5ec4f39c48e\n"
     ]
    }
   ],
   "execution_count": 16
  },
  {
   "attachments": {},
   "cell_type": "markdown",
   "metadata": {},
   "source": [
    "When the job is completed, navigate to the job overview. The **Trials** tab will show all models that have been trained and how the `Accuracy` score differs for each regularization rate value you tried."
   ]
  }
 ],
 "metadata": {
  "kernel_info": {
   "name": "python38-azureml"
  },
  "kernelspec": {
   "display_name": "Python 3 (ipykernel)",
   "language": "python",
   "name": "python3"
  },
  "microsoft": {
   "host": {
    "AzureML": {
     "notebookHasBeenCompleted": true
    }
   }
  },
  "nteract": {
   "version": "nteract-front-end@1.0.0"
  },
  "vscode": {
   "interpreter": {
    "hash": "f2b2cd046deda8eabef1e765a11d0ec9aa9bd1d31d56ce79c815a38c323e14ec"
   }
  }
 },
 "nbformat": 4,
 "nbformat_minor": 2
}
